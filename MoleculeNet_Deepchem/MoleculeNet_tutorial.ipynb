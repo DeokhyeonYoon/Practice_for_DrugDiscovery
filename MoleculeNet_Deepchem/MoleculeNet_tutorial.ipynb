{
 "cells": [
  {
   "cell_type": "markdown",
   "metadata": {},
   "source": [
    "# An Introduction To MoleculeNet\n",
    "\n",
    "One of the most powerful features of DeepChem is that it comes \"batteries included\" with datasets to use. The DeepChem developer community maintains the MoleculeNet [1] suite of datasets which maintains a large collection of different scientific datasets for use in machine learning applications. The original MoleculeNet suite had 17 datasets mostly focused on molecular properties. Over the last several years, MoleculeNet has evolved into a broader collection of scientific datasets to facilitate the broad use and development of scientific machine learning tools.\n",
    "\n",
    "These datasets are integrated with the rest of the DeepChem suite so you can conveniently access these these through functions in the `dc.molnet` submodule. You've already seen a few examples of these loaders already as you've worked through the tutorial series. The full documentation for the MoleculeNet suite is available in our docs [2].\n",
    "\n",
    "[1] Wu, Zhenqin, et al. \"MoleculeNet: a benchmark for molecular machine learning.\" Chemical science 9.2 (2018): 513-530.\n",
    "\n",
    "[2] https://deepchem.readthedocs.io/en/latest/moleculenet.html"
   ]
  },
  {
   "cell_type": "code",
   "execution_count": null,
   "metadata": {},
   "outputs": [
    {
     "ename": "",
     "evalue": "",
     "output_type": "error",
     "traceback": [
      "\u001b[1;31m커널을 시작하지 못했습니다. \n",
      "\u001b[1;31mImportError: /home/dbsejrgus226/miniconda3/envs/606server_virtual_env_1/lib/python3.12/lib-dynload/_sqlite3.cpython-312-x86_64-linux-gnu.so: undefined symbol: sqlite3_deserialize. \n",
      "\u001b[1;31m자세한 내용은 Jupyter <a href='command:jupyter.viewOutput'>로그</a>를 참조하세요."
     ]
    }
   ],
   "source": [
    "import deepchem as dc"
   ]
  },
  {
   "cell_type": "code",
   "execution_count": 2,
   "metadata": {},
   "outputs": [
    {
     "data": {
      "text/plain": [
       "'2.6.0.dev'"
      ]
     },
     "execution_count": 2,
     "metadata": {},
     "output_type": "execute_result"
    }
   ],
   "source": [
    "dc.__version__"
   ]
  },
  {
   "cell_type": "markdown",
   "metadata": {},
   "source": [
    "## MoldeculeNet Overview"
   ]
  },
  {
   "cell_type": "code",
   "execution_count": 3,
   "metadata": {},
   "outputs": [],
   "source": [
    "tasks, datasets, transformers = dc.molnet.load_delaney(feature = \"GraphConv\", splitter=\"random\")"
   ]
  },
  {
   "cell_type": "markdown",
   "metadata": {},
   "source": [
    "Notice that the loader function we invoke `dc.molnet.load_delaney` lives in the `dc.molnet` submodule of MoleculeNet loaders. Let's take a look at the full collection of loaders available for us"
   ]
  },
  {
   "cell_type": "code",
   "execution_count": 4,
   "metadata": {},
   "outputs": [
    {
     "data": {
      "text/plain": [
       "['load_Platinum_Adsorption',\n",
       " 'load_bace_classification',\n",
       " 'load_bace_regression',\n",
       " 'load_bandgap',\n",
       " 'load_bbbc001',\n",
       " 'load_bbbc002',\n",
       " 'load_bbbp',\n",
       " 'load_cell_counting',\n",
       " 'load_chembl',\n",
       " 'load_chembl25',\n",
       " 'load_clearance',\n",
       " 'load_clintox',\n",
       " 'load_delaney',\n",
       " 'load_factors',\n",
       " 'load_function',\n",
       " 'load_hiv',\n",
       " 'load_hopv',\n",
       " 'load_hppb',\n",
       " 'load_kaggle',\n",
       " 'load_kinase',\n",
       " 'load_lipo',\n",
       " 'load_mp_formation_energy',\n",
       " 'load_mp_metallicity',\n",
       " 'load_muv',\n",
       " 'load_nci',\n",
       " 'load_pcba',\n",
       " 'load_pdbbind',\n",
       " 'load_perovskite',\n",
       " 'load_ppb',\n",
       " 'load_qm7',\n",
       " 'load_qm8',\n",
       " 'load_qm9',\n",
       " 'load_sampl',\n",
       " 'load_sider',\n",
       " 'load_sweet',\n",
       " 'load_thermosol',\n",
       " 'load_tox21',\n",
       " 'load_toxcast',\n",
       " 'load_uspto',\n",
       " 'load_uv',\n",
       " 'load_zinc15']"
      ]
     },
     "execution_count": 4,
     "metadata": {},
     "output_type": "execute_result"
    }
   ],
   "source": [
    "[method for method in dir(dc.molnet) if \"load_\" in method]"
   ]
  },
  {
   "cell_type": "code",
   "execution_count": 5,
   "metadata": {},
   "outputs": [
    {
     "data": {
      "text/plain": [
       "41"
      ]
     },
     "execution_count": 5,
     "metadata": {},
     "output_type": "execute_result"
    }
   ],
   "source": [
    "len([method for method in dir(dc.molnet) if \"load_\" in method])"
   ]
  },
  {
   "cell_type": "markdown",
   "metadata": {},
   "source": [
    "## MoleculeNet Dataset Categories\n",
    "\n",
    "There's a lot of different datasets in MoleculeNet. Let's do a quick overview of the different types of datasets available. We'll break datasets into different categories and list loaders which belong to those categories. More details on each of these datasets can be found at https://deepchem.readthedocs.io/en/latest/moleculenet.html. The original MoleculeNet paper [1] provides details about a subset of these papers. We've marked these datasets as \"V1\" below. All remaining dataset are \"V2\" and not documented in the older paper.\n",
    "\n",
    "### Quantum Mechanical Datasets\n",
    "MoleculeNet's quantum mechanical datasets contain various quantum mechanical property prediction tasks. The current set of quantum mechanical datasets includes QM7, QM7b, QM8, QM9. The associated loaders are\n",
    "\n",
    " * `dc.molnet.load_qm7`: V1\n",
    " * `dc.molnet.load_qm7b_from_mat`: V1\n",
    " * `dc.molnet.load_qm8`: V1\n",
    " * ``dc.molnet.load_qm9``: V1\n",
    "\n",
    "### Physical Chemistry Datasets\n",
    "The physical chemistry dataset collection contain a variety of tasks for predicting various physical properties of molecules.\n",
    "\n",
    " * ``dc.molnet.load_delaney``: V1. This dataset is also referred to as ESOL in the original paper.\n",
    " * ``dc.molnet.load_sampl``: V1. This dataset is also referred to as FreeSolv in the original paper.\n",
    " * ``dc.molnet.load_lipo``: V1. This dataset is also referred to as Lipophilicity in the original paper.\n",
    " * ``dc.molnet.load_thermosol``: V2.\n",
    " * ``dc.molnet.load_hppb``: V2.\n",
    " * ``dc.molnet.load_hopv``: V2. This dataset is drawn from a recent publication [3]\n",
    "\n",
    "### Chemical Reaction Datasets\n",
    "These datasets hold chemical reaction datasets for use in computational retrosynthesis / forward synthesis.\n",
    "\n",
    " * ``dc.molnet.load_uspto``\n",
    "\n",
    "### Biochemical/Biophysical Datasets\n",
    "These datasets are drawn from various biochemical/biophysical datasets that measure things like the binding affinity of compounds to proteins.\n",
    "\n",
    " * ``dc.molnet.load_pcba``: V1\n",
    " * ``dc.molnet.load_nci``: V2.\n",
    " * ``dc.molnet.load_muv``: V1\n",
    " * ``dc.molnet.load_hiv``: V1\n",
    " * ``dc.molnet.load_ppb``: V2.\n",
    " * ``dc.molnet.load_bace_classification``: V1. This loader loads the classification task for the BACE dataset from the original MoleculeNet paper.\n",
    " * ``dc.molnet.load_bace_regression``: V1. This loader loads the regression task for the BACE dataset from the original MoleculeNet paper.\n",
    " * ``dc.molnet.load_kaggle``: V2. This dataset is from Merck's drug discovery kaggle contest and is described in [4].\n",
    " * ``dc.molnet.load_factors``: V2. This dataset is from [4].\n",
    " * ``dc.molnet.load_uv``: V2. This dataset is from [4].\n",
    " * ``dc.molnet.load_kinase``: V2. This datset is from [4].\n",
    "\n",
    "### Molecular Catalog Datasets\n",
    "These datasets provide molecular datasets which have no associated properties beyond the raw SMILES formula or structure. These types of datasets are useful for generative modeling tasks.\n",
    "\n",
    " * ``dc.molnet.load_zinc15``: V2\n",
    " * ``dc.molnet.load_chembl``: V2\n",
    " * ``dc.molnet.load_chembl25``: V2\n",
    "\n",
    "### Physiology Datasets\n",
    "These datasets measure physiological properties of how molecules interact with human patients.\n",
    "\n",
    " * ``dc.molnet.load_bbbp``: V1\n",
    " * ``dc.molnet.load_tox21``: V1\n",
    " * ``dc.molnet.load_toxcast``: V1\n",
    " * ``dc.molnet.load_sider``: V1\n",
    " * ``dc.molnet.load_clintox``: V1\n",
    " * ``dc.molnet.load_clearance``: V2.\n",
    "\n",
    "### Structural Biology Datasets\n",
    "These datasets contain 3D structures of macromolecules along with associated properties.\n",
    "\n",
    " * ``dc.molnet.load_pdbbind``: V1\n",
    "\n",
    "### Microscopy Datasets\n",
    "These datasets contain microscopy image datasets, typically of cell lines. These datasets were not in the original MoleculeNet paper.\n",
    "\n",
    " * ``dc.molnet.load_bbbc001``: V2\n",
    " * ``dc.molnet.load_bbbc002``: V2\n",
    " * ``dc.molnet.load_cell_counting``: V2\n",
    "\n",
    "### Materials Properties Datasets\n",
    "These datasets compute properties of various materials.\n",
    "\n",
    " * ``dc.molnet.load_bandgap``: V2\n",
    " * ``dc.molnet.load_perovskite``: V2\n",
    " * ``dc.molnet.load_mp_formation_energy``: V2\n",
    " * ``dc.molnet.load_mp_metallicity``: V2\n",
    "\n",
    "[3] Lopez, Steven A., et al. \"The Harvard organic photovoltaic dataset.\" Scientific data 3.1 (2016): 1-7.\n",
    "\n",
    "[4] Ramsundar, Bharath, et al. \"Is multitask deep learning practical for pharma?.\" Journal of chemical information and modeling 57.8 (2017): 2068-2076."
   ]
  },
  {
   "cell_type": "markdown",
   "metadata": {},
   "source": [
    "## MoleculesNet Loaders Explained\n",
    "\n",
    "MoleculeNet Loaders Explained\n",
    "All MoleculeNet loader functions take the form ``dc.molnet.load_X.`` Loader functions return a tuple of arguments ``(tasks, datasets, transformers)``. Let's walk through each of these return values and explain what we get:\n",
    "\n",
    "1. ``tasks``: This is a list of task-names. Many datasets in MoleculeNet are \"multitask\". That is, a given datapoint has multiple labels associated with it. These correspond to different measurements or values associated with this datapoint.\n",
    "2. ``datasets``: This field is a tuple of three ``dc.data.Dataset`` objects ``(train, valid, test)``. These correspond to the training, validation, and test set for this MoleculeNet dataset.\n",
    "3. ``transformers``: This field is a list of ``dc.trans.Transformer`` objects which were applied to this dataset during processing.\n",
    "\n",
    "This is abstract so let's take a look at each of these fields for the ``dc.molnet.load_delaney`` function we invoked above. Let's start with ``tasks``."
   ]
  },
  {
   "cell_type": "code",
   "execution_count": 7,
   "metadata": {},
   "outputs": [
    {
     "data": {
      "text/plain": [
       "['measured log solubility in mols per litre']"
      ]
     },
     "execution_count": 7,
     "metadata": {},
     "output_type": "execute_result"
    }
   ],
   "source": [
    "tasks"
   ]
  },
  {
   "cell_type": "markdown",
   "metadata": {},
   "source": [
    "We have one task in this dataset which corresponds to the measured log solubility in mol/L. \n",
    "\n",
    "Let's now take a look at ``datasets``"
   ]
  },
  {
   "cell_type": "code",
   "execution_count": 8,
   "metadata": {},
   "outputs": [
    {
     "data": {
      "text/plain": [
       "(<DiskDataset X.shape: (902, 1024), y.shape: (902, 1), w.shape: (902, 1), ids: ['ClC1=C(Cl)C2(Cl)C3C4CC(C=C4)C3C1(Cl)C2(Cl)Cl' 'Nc1c(C)c[nH]c(=O)n1 '\n",
       "  'CN(C)C(=O)C' ... 'CCOC(=O)c1ccccc1C(=O)OCC' 'Clc1cccc2ccccc12'\n",
       "  'OCC1OC(C(O)C1O)n2cnc3c(O)ncnc23'], task_names: ['measured log solubility in mols per litre']>,\n",
       " <DiskDataset X.shape: (113, 1024), y.shape: (113, 1), w.shape: (113, 1), ids: ['Brc1ccc(Br)cc1' 'CC(C)c1ccc(C)cc1O' 'CCOc1ccc(NC(=O)C)cc1' ...\n",
       "  'CC1(C)C(C(=O)OC(C#N)c2cccc(Oc3ccccc3)c2)C1(C)C' 'c1(O)c(C)ccc(C(C)C)c1'\n",
       "  'COCCCNc1nc(NC(C)C)nc(SC)n1'], task_names: ['measured log solubility in mols per litre']>,\n",
       " <DiskDataset X.shape: (113, 1024), y.shape: (113, 1), w.shape: (113, 1), ids: ['CCNc1nc(NC(C)(C)C)nc(OC)n1'\n",
       "  'CC12CC(O)C3C(CCC4=CC(=O)CCC34C)C2CCC1(O)C(=O)CO' 'CC(C)CCOC(=O)C' ...\n",
       "  'OC1CCCCCCC1' 'CN(C)C(=O)C(c1ccccc1)c2ccccc2 ' 'Oc1ccc(Cl)c(Cl)c1Cl'], task_names: ['measured log solubility in mols per litre']>)"
      ]
     },
     "execution_count": 8,
     "metadata": {},
     "output_type": "execute_result"
    }
   ],
   "source": [
    "datasets"
   ]
  },
  {
   "cell_type": "markdown",
   "metadata": {},
   "source": [
    "As we mentioned previously, we see that datasets is a tuple of 3 datasets."
   ]
  },
  {
   "cell_type": "code",
   "execution_count": 9,
   "metadata": {},
   "outputs": [],
   "source": [
    "train, vaild, test = datasets"
   ]
  },
  {
   "cell_type": "code",
   "execution_count": 10,
   "metadata": {},
   "outputs": [
    {
     "data": {
      "text/plain": [
       "<DiskDataset X.shape: (902, 1024), y.shape: (902, 1), w.shape: (902, 1), ids: ['ClC1=C(Cl)C2(Cl)C3C4CC(C=C4)C3C1(Cl)C2(Cl)Cl' 'Nc1c(C)c[nH]c(=O)n1 '\n",
       " 'CN(C)C(=O)C' ... 'CCOC(=O)c1ccccc1C(=O)OCC' 'Clc1cccc2ccccc12'\n",
       " 'OCC1OC(C(O)C1O)n2cnc3c(O)ncnc23'], task_names: ['measured log solubility in mols per litre']>"
      ]
     },
     "execution_count": 10,
     "metadata": {},
     "output_type": "execute_result"
    }
   ],
   "source": [
    "train"
   ]
  },
  {
   "cell_type": "code",
   "execution_count": 11,
   "metadata": {},
   "outputs": [
    {
     "data": {
      "text/plain": [
       "<DiskDataset X.shape: (113, 1024), y.shape: (113, 1), w.shape: (113, 1), ids: ['Brc1ccc(Br)cc1' 'CC(C)c1ccc(C)cc1O' 'CCOc1ccc(NC(=O)C)cc1' ...\n",
       " 'CC1(C)C(C(=O)OC(C#N)c2cccc(Oc3ccccc3)c2)C1(C)C' 'c1(O)c(C)ccc(C(C)C)c1'\n",
       " 'COCCCNc1nc(NC(C)C)nc(SC)n1'], task_names: ['measured log solubility in mols per litre']>"
      ]
     },
     "execution_count": 11,
     "metadata": {},
     "output_type": "execute_result"
    }
   ],
   "source": [
    "vaild"
   ]
  },
  {
   "cell_type": "code",
   "execution_count": 12,
   "metadata": {},
   "outputs": [
    {
     "data": {
      "text/plain": [
       "<DiskDataset X.shape: (113, 1024), y.shape: (113, 1), w.shape: (113, 1), ids: ['CCNc1nc(NC(C)(C)C)nc(OC)n1'\n",
       " 'CC12CC(O)C3C(CCC4=CC(=O)CCC34C)C2CCC1(O)C(=O)CO' 'CC(C)CCOC(=O)C' ...\n",
       " 'OC1CCCCCCC1' 'CN(C)C(=O)C(c1ccccc1)c2ccccc2 ' 'Oc1ccc(Cl)c(Cl)c1Cl'], task_names: ['measured log solubility in mols per litre']>"
      ]
     },
     "execution_count": 12,
     "metadata": {},
     "output_type": "execute_result"
    }
   ],
   "source": [
    "test"
   ]
  },
  {
   "cell_type": "markdown",
   "metadata": {},
   "source": [
    "Let's peek into one of the datapoints in the ``train`` dataset.\n",
    "\n"
   ]
  },
  {
   "cell_type": "code",
   "execution_count": 13,
   "metadata": {},
   "outputs": [
    {
     "data": {
      "text/plain": [
       "array([0., 0., 0., ..., 0., 0., 0.])"
      ]
     },
     "execution_count": 13,
     "metadata": {},
     "output_type": "execute_result"
    }
   ],
   "source": [
    "train.X[0]"
   ]
  },
  {
   "cell_type": "markdown",
   "metadata": {},
   "source": [
    "<deepchem.feat.mol_graphs.ConvMol at 0x7fe1ef601438>\n",
    "Note that this is a dc.feat.mol_graphs.ConvMol object produced by dc.feat.ConvMolFeaturizer. We'll say more about how to control choice of featurization shortly. Finally let's take a look at the transformers field:"
   ]
  },
  {
   "cell_type": "code",
   "execution_count": 14,
   "metadata": {},
   "outputs": [
    {
     "data": {
      "text/plain": [
       "[<deepchem.trans.transformers.NormalizationTransformer at 0x7f58448c5cd0>]"
      ]
     },
     "execution_count": 14,
     "metadata": {},
     "output_type": "execute_result"
    }
   ],
   "source": [
    "transformers"
   ]
  },
  {
   "cell_type": "markdown",
   "metadata": {},
   "source": [
    "So we see that one transformer was applied, the ``dc.trans.NormalizationTransformer``.\n",
    "\n",
    "After reading through this description so far, you may be wondering what choices are made under the hood. As we've briefly mentioned previously, datasets can be processed with different choices of \"featurizers\". Can we control the choice of featurization here? In addition, how was the source dataset split into train/valid/test as three different datasets?\n",
    "\n",
    "You can use the 'featurizer' and 'splitter' keyword arguments and pass in different strings. Common possible choices for 'featurizer' are 'ECFP', 'GraphConv', 'Weave' and 'smiles2img' corresponding to the ``dc.feat.CircularFingerprint``, ``dc.feat.ConvMolFeaturizer``, ``dc.feat.WeaveFeaturizer`` and ``dc.feat.SmilesToImage featurizers``. Common possible choices for 'splitter' are ``None``, 'index', 'random', 'scaffold' and 'stratified' corresponding to no split, ``dc.splits.IndexSplitter``, ``dc.splits.RandomSplitter``, ``dc.splits.SingletaskStratifiedSplitter``. We haven't talked much about splitters yet, but intuitively they're a way to partition a dataset based on different criteria. We'll say more in a future tutorial.\n",
    "\n",
    "Instead of a string, you also can pass in any ``Featurizer`` or ``Splitter`` object. This is very useful when, for example, a Featurizer has constructor arguments you can use to customize its behavior."
   ]
  },
  {
   "cell_type": "code",
   "execution_count": 3,
   "metadata": {},
   "outputs": [],
   "source": [
    "tasks, datasets, transformers = dc.molnet.load_delaney(featureizer=\"ECFP\", splitter=\"scaffold\")"
   ]
  },
  {
   "cell_type": "code",
   "execution_count": 4,
   "metadata": {},
   "outputs": [],
   "source": [
    "(train, vaild, test) = datasets"
   ]
  },
  {
   "cell_type": "code",
   "execution_count": 5,
   "metadata": {},
   "outputs": [
    {
     "data": {
      "text/plain": [
       "<DiskDataset X.shape: (902, 1024), y.shape: (902, 1), w.shape: (902, 1), ids: ['CC(C)=CCCC(C)=CC(=O)' 'CCCC=C' 'CCCCCCCCCCCCCC' ...\n",
       " 'Nc2cccc3nc1ccccc1cc23 ' 'C1CCCCCC1' 'OC1CCCCCC1'], task_names: ['measured log solubility in mols per litre']>"
      ]
     },
     "execution_count": 5,
     "metadata": {},
     "output_type": "execute_result"
    }
   ],
   "source": [
    "train"
   ]
  },
  {
   "cell_type": "code",
   "execution_count": 6,
   "metadata": {},
   "outputs": [
    {
     "data": {
      "text/plain": [
       "array([0., 0., 0., ..., 0., 0., 0.])"
      ]
     },
     "execution_count": 6,
     "metadata": {},
     "output_type": "execute_result"
    }
   ],
   "source": [
    "train.X[0]"
   ]
  },
  {
   "cell_type": "markdown",
   "metadata": {},
   "source": [
    "Note that unlike the earlier invocation we have numpy arrays produced by dc.feat.CircularFingerprint instead of ConvMol objects produced by dc.feat.ConvMolFeaturizer.\n",
    "\n",
    "Give it a try for yourself. Try invoking MoleculeNet to load some other datasets and experiment with different featurizer/split options and see what happens!"
   ]
  },
  {
   "cell_type": "code",
   "execution_count": null,
   "metadata": {},
   "outputs": [],
   "source": []
  }
 ],
 "metadata": {
  "kernelspec": {
   "display_name": "606server_virtual_env_1",
   "language": "python",
   "name": "python3"
  },
  "language_info": {
   "codemirror_mode": {
    "name": "ipython",
    "version": 3
   },
   "file_extension": ".py",
   "mimetype": "text/x-python",
   "name": "python",
   "nbconvert_exporter": "python",
   "pygments_lexer": "ipython3",
   "version": "3.12.1"
  }
 },
 "nbformat": 4,
 "nbformat_minor": 2
}
